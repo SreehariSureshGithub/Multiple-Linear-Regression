{
 "cells": [
  {
   "cell_type": "markdown",
   "metadata": {},
   "source": [
    "# Multiple Linear Regression Implementation From Scratch In Python"
   ]
  },
  {
   "cell_type": "code",
   "execution_count": 4,
   "metadata": {},
   "outputs": [],
   "source": [
    "\"\"\"Multiple Linear Regression Algorithm From Scratch Using Python\n",
    "\n",
    "This class is implementing Multiple Linear Regression Algorithm without using machine learning libraries.\n",
    "\n",
    "\"\"\"\n",
    "#load libaries\n",
    "import numpy as np"
   ]
  },
  {
   "cell_type": "code",
   "execution_count": 5,
   "metadata": {},
   "outputs": [],
   "source": [
    "class MultipleLinearRegression:\n",
    "    \n",
    "    def __init__(self, learning_rate = .0001, loss_threshold = .0001):\n",
    "        \n",
    "        # Learning rate controls how much we are adjusting the coefficient with respect the loss error in each iteration.\n",
    "        self.learning_rate = learning_rate\n",
    "        \n",
    "        # Minimum Loss Error for better prediction.\n",
    "        self.loss_threshold = loss_threshold\n",
    "\n",
    "    \"\"\" Prepare Dataset before start training\n",
    "    \n",
    "    This method append a scalar column matrix [1,1,1,....] into features dataset\n",
    "    \"\"\"\n",
    "\n",
    "    def prepare_data(self,features):\n",
    "        features = features.T\n",
    "        # Add feature0 vector to the features matrix \n",
    "        feature0 = np.ones(len(features[0])).reshape(1,-1)\n",
    "        features = np.concatenate((feature0, features)).T\n",
    "        return features\n",
    "\n",
    "    \"\"\"Calculate Loss using Mean Squared Error Method\n",
    "    \n",
    "    This method calculates mean sqaured error (MSE).\n",
    "    \"\"\"\n",
    "    def cost_function(self,X,Y,B):\n",
    "        count = len(Y)\n",
    "        loss = X.dot(B) - Y\n",
    "        square = (loss) ** 2\n",
    "        mean_square = sum(square) / (2 * count)\n",
    "        return mean_square\n",
    "    \n",
    "    \"\"\"Calculate New Coefficient using Gradient Descent Method \n",
    "    \n",
    "    This method calculates new coefficient to minimize the loss error. \n",
    "    \"\"\"\n",
    "    def gradient_descent(self,X,Y,B, learning_rate):\n",
    "        count = len(Y)\n",
    "        Y_predict = X.dot(B)\n",
    "        loss = Y_predict - Y\n",
    "        gradient = (X.T).dot(loss) / count\n",
    "        new_B = B - learning_rate * gradient\n",
    "        return new_B\n",
    "    \n",
    "    \"\"\"Calculate Appropriate Coefficient Values for Linear Regression equation\n",
    "    \n",
    "    This method calculates appropriate coefficient values by minimizing Mean Squared Error (MSE) \n",
    "    \"\"\"\n",
    "    def fit(self,features,target):\n",
    "        \n",
    "        features = self.prepare_data(features)\n",
    "        coefficient = np.zeros(len(features[0]))\n",
    "        learning_rate = self.learning_rate\n",
    "        loss_error = self.cost_function(features,target,coefficient)\n",
    "        iteration = 1;\n",
    "        while loss_error > self.loss_threshold:\n",
    "            coefficient = self.gradient_descent(features,target,coefficient, learning_rate)\n",
    "            loss_error = self.cost_function(features,target,coefficient)\n",
    "            iteration = iteration + 1\n",
    "        \n",
    "        self.coefficient = coefficient \n",
    "            \n",
    "    \"\"\"Predict Target Values Using Features\n",
    "    \n",
    "    This method predict the target value using Linear Regression equation:\n",
    "    \n",
    "    target = bo + b1 * feature1 + b2 * feature2 + .....\n",
    "\n",
    "    Assume feature0 = 1 so\n",
    "    \n",
    "    target = bo * feature0 + b1 * feature1 + b2 * feature2 + .....\n",
    "\n",
    "    In Matrix Form:\n",
    "\n",
    "    target (Y) = Coefficient(B) * Features (X)\n",
    "\n",
    "    Here - \n",
    "\n",
    "    Coefficient is calculated using fit() method\n",
    "    Feature0 is appended to Features List using prepare_data() method\n",
    "\n",
    "    \"\"\"\n",
    "    def predict(self,features):\n",
    "        features = self.prepare_data(np.array(features))\n",
    "        predicted = features.dot(self.coefficient)\n",
    "        return predicted\n"
   ]
  },
  {
   "cell_type": "markdown",
   "metadata": {},
   "source": [
    "## How to Use"
   ]
  },
  {
   "cell_type": "code",
   "execution_count": 6,
   "metadata": {},
   "outputs": [
    {
     "name": "stdout",
     "output_type": "stream",
     "text": [
      "Predicted Value [1110.98254009]\n"
     ]
    }
   ],
   "source": [
    "# Multiple Features Variables\n",
    "\n",
    "feature1 = [1,2,3,4,5,6,7,8,9,10]\n",
    "feature2 = [10,20,30,40,50,60,70,80,90,100]\n",
    "\n",
    "# Target Variable\n",
    "target = [101,202,303,404,505,606,707,808,909,1010]\n",
    "\n",
    "# So, target = ( 0 * feature0 + 1 * feature1 + 10 * features2 ) so coefficient are bo = 0, b1 = 1 and b2 = 10 \n",
    "# but we have to let do these calculation to this multiple linear regression class.\n",
    "\n",
    "# A numpy array containing all features\n",
    "features = np.array([feature1,feature2]).T\n",
    "\n",
    "# Initialize MultipleLinearRegression model\n",
    "model = MultipleLinearRegression(learning_rate = .0001,  loss_threshold = .0001)\n",
    "\n",
    "# Train the model\n",
    "model.fit(features,target)    \n",
    "\n",
    "# what is value of y if feature1 = 11 and feature2 = 110. You can guess that it should be 1110.\n",
    "y_predicted = model.predict([[11,110]])# \n",
    "print(\"Predicted Value %s\" % (y_predicted))\n",
    "\n",
    "\n"
   ]
  },
  {
   "cell_type": "code",
   "execution_count": null,
   "metadata": {},
   "outputs": [],
   "source": []
  }
 ],
 "metadata": {
  "kernelspec": {
   "display_name": "Python 3",
   "language": "python",
   "name": "python3"
  },
  "language_info": {
   "codemirror_mode": {
    "name": "ipython",
    "version": 3
   },
   "file_extension": ".py",
   "mimetype": "text/x-python",
   "name": "python",
   "nbconvert_exporter": "python",
   "pygments_lexer": "ipython3",
   "version": "3.6.7"
  }
 },
 "nbformat": 4,
 "nbformat_minor": 2
}
